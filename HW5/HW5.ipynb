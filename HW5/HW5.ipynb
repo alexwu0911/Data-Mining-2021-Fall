{
 "cells": [
  {
   "cell_type": "code",
   "execution_count": 2,
   "metadata": {},
   "outputs": [],
   "source": [
    "from pyspark.sql.types import IntegerType, DoubleType"
   ]
  },
  {
   "cell_type": "code",
   "execution_count": 3,
   "metadata": {},
   "outputs": [
    {
     "name": "stdout",
     "output_type": "stream",
     "text": [
      "hdfs://master:9000/user/user/data/\n"
     ]
    }
   ],
   "source": [
    "global path # 路徑設定\n",
    "if sc.master == 'local':\n",
    "    path = \"file:/home/user/Downloads/\"\n",
    "else:\n",
    "    path = \"hdfs://master:9000/user/user/data/\"\n",
    "    \n",
    "    \n",
    "print(path)"
   ]
  },
  {
   "cell_type": "code",
   "execution_count": 4,
   "metadata": {},
   "outputs": [],
   "source": [
    "df = spark.read.option(\"header\", \"true\").csv(path+\"/movieRating.csv\") # load dataset\n",
    "# format(\"csv\").option(\"header\", \"true\").load("
   ]
  },
  {
   "cell_type": "code",
   "execution_count": 5,
   "metadata": {},
   "outputs": [
    {
     "data": {
      "text/plain": [
       "899873"
      ]
     },
     "execution_count": 5,
     "metadata": {},
     "output_type": "execute_result"
    }
   ],
   "source": [
    "df.count() # 資料總數"
   ]
  },
  {
   "cell_type": "code",
   "execution_count": 6,
   "metadata": {},
   "outputs": [
    {
     "name": "stdout",
     "output_type": "stream",
     "text": [
      "+-----------+------+-------+------+\n",
      "|TrainDataID|UserID|MovieID|Rating|\n",
      "+-----------+------+-------+------+\n",
      "|          1|   796|   1193|     5|\n",
      "|          2|   796|    661|     3|\n",
      "|          3|   796|    914|     3|\n",
      "|          4|   796|   3408|     4|\n",
      "|          5|   796|   2355|     5|\n",
      "|          6|   796|   1197|     3|\n",
      "|          7|   796|   1287|     5|\n",
      "|          8|   796|   2804|     5|\n",
      "|          9|   796|    919|     4|\n",
      "|         10|   796|    595|     5|\n",
      "|         11|   796|    938|     4|\n",
      "|         12|   796|   2398|     4|\n",
      "|         13|   796|   2918|     4|\n",
      "|         14|   796|   1035|     5|\n",
      "|         15|   796|   2791|     4|\n",
      "|         16|   796|   2687|     3|\n",
      "|         17|   796|   2018|     4|\n",
      "|         18|   796|   3105|     5|\n",
      "|         19|   796|   2797|     4|\n",
      "|         20|   796|   2321|     3|\n",
      "+-----------+------+-------+------+\n",
      "only showing top 20 rows\n",
      "\n"
     ]
    }
   ],
   "source": [
    "df.show()"
   ]
  },
  {
   "cell_type": "code",
   "execution_count": 7,
   "metadata": {},
   "outputs": [
    {
     "data": {
      "text/plain": [
       "[('TrainDataID', 'string'),\n",
       " ('UserID', 'string'),\n",
       " ('MovieID', 'string'),\n",
       " ('Rating', 'string')]"
      ]
     },
     "execution_count": 7,
     "metadata": {},
     "output_type": "execute_result"
    }
   ],
   "source": [
    "df.dtypes"
   ]
  },
  {
   "cell_type": "code",
   "execution_count": 8,
   "metadata": {},
   "outputs": [
    {
     "data": {
      "text/plain": [
       "pyspark.sql.dataframe.DataFrame"
      ]
     },
     "execution_count": 8,
     "metadata": {},
     "output_type": "execute_result"
    }
   ],
   "source": [
    "type(df)"
   ]
  },
  {
   "cell_type": "code",
   "execution_count": 9,
   "metadata": {},
   "outputs": [
    {
     "name": "stdout",
     "output_type": "stream",
     "text": [
      "+------+-------+------+\n",
      "|UserID|MovieID|Rating|\n",
      "+------+-------+------+\n",
      "|   796|   1193|     5|\n",
      "|   796|    661|     3|\n",
      "|   796|    914|     3|\n",
      "|   796|   3408|     4|\n",
      "|   796|   2355|     5|\n",
      "|   796|   1197|     3|\n",
      "|   796|   1287|     5|\n",
      "|   796|   2804|     5|\n",
      "|   796|    919|     4|\n",
      "|   796|    595|     5|\n",
      "|   796|    938|     4|\n",
      "|   796|   2398|     4|\n",
      "|   796|   2918|     4|\n",
      "|   796|   1035|     5|\n",
      "|   796|   2791|     4|\n",
      "|   796|   2687|     3|\n",
      "|   796|   2018|     4|\n",
      "|   796|   3105|     5|\n",
      "|   796|   2797|     4|\n",
      "|   796|   2321|     3|\n",
      "+------+-------+------+\n",
      "only showing top 20 rows\n",
      "\n"
     ]
    }
   ],
   "source": [
    "df = df.select(df.columns[1:4])\n",
    "df.show()"
   ]
  },
  {
   "cell_type": "code",
   "execution_count": 10,
   "metadata": {},
   "outputs": [
    {
     "data": {
      "text/plain": [
       "[('UserID', 'int'), ('MovieID', 'int'), ('Rating', 'double')]"
      ]
     },
     "execution_count": 10,
     "metadata": {},
     "output_type": "execute_result"
    }
   ],
   "source": [
    "for i in df.columns: #轉換資料型態\n",
    "    if(i != df.columns[2]):\n",
    "        df = df.withColumn(i, df[i].cast(IntegerType())) \n",
    "    else:\n",
    "        df = df.withColumn(i, df[i].cast(DoubleType()))\n",
    "    \n",
    "df.dtypes"
   ]
  },
  {
   "cell_type": "code",
   "execution_count": 11,
   "metadata": {},
   "outputs": [],
   "source": [
    "spilts = df.randomSplit([0.8, 0.2], 0)\n",
    "train = spilts[0]\n",
    "test = spilts[1]"
   ]
  },
  {
   "cell_type": "code",
   "execution_count": 12,
   "metadata": {},
   "outputs": [
    {
     "data": {
      "text/plain": [
       "719418"
      ]
     },
     "execution_count": 12,
     "metadata": {},
     "output_type": "execute_result"
    }
   ],
   "source": [
    "train.count() # 切割後資料數 train"
   ]
  },
  {
   "cell_type": "code",
   "execution_count": 13,
   "metadata": {},
   "outputs": [
    {
     "name": "stdout",
     "output_type": "stream",
     "text": [
      "+------+-------+------+\n",
      "|UserID|MovieID|Rating|\n",
      "+------+-------+------+\n",
      "|     1|     36|   5.0|\n",
      "|     1|     85|   3.0|\n",
      "|     1|    249|   4.0|\n",
      "|     1|    261|   4.0|\n",
      "|     1|    265|   4.0|\n",
      "|     1|    296|   4.0|\n",
      "|     1|    318|   5.0|\n",
      "|     1|    356|   5.0|\n",
      "|     1|    468|   3.0|\n",
      "|     1|    527|   5.0|\n",
      "|     1|    531|   5.0|\n",
      "|     1|    539|   5.0|\n",
      "|     1|    590|   5.0|\n",
      "|     1|    597|   5.0|\n",
      "|     1|    647|   5.0|\n",
      "|     1|    838|   4.0|\n",
      "|     1|    904|   4.0|\n",
      "|     1|    915|   4.0|\n",
      "|     1|    920|   5.0|\n",
      "|     1|   1172|   5.0|\n",
      "|     1|   1183|   4.0|\n",
      "|     1|   1244|   5.0|\n",
      "|     1|   1256|   4.0|\n",
      "|     1|   1270|   5.0|\n",
      "|     1|   1357|   5.0|\n",
      "|     1|   1358|   4.0|\n",
      "|     1|   1393|   5.0|\n",
      "|     1|   1441|   4.0|\n",
      "|     1|   1573|   5.0|\n",
      "|     1|   1619|   4.0|\n",
      "|     1|   1704|   5.0|\n",
      "|     1|   1947|   5.0|\n",
      "|     1|   1959|   4.0|\n",
      "|     1|   2028|   3.0|\n",
      "|     1|   2100|   5.0|\n",
      "|     1|   2268|   5.0|\n",
      "|     1|   2324|   5.0|\n",
      "|     1|   2340|   5.0|\n",
      "|     1|   2396|   5.0|\n",
      "|     1|   2406|   5.0|\n",
      "|     1|   2431|   5.0|\n",
      "|     1|   2442|   3.0|\n",
      "|     1|   2640|   4.0|\n",
      "|     1|   2712|   1.0|\n",
      "|     1|   2762|   5.0|\n",
      "|     1|   3072|   5.0|\n",
      "|     1|   3128|   3.0|\n",
      "|     1|   3148|   4.0|\n",
      "|     1|   3260|   4.0|\n",
      "|     1|   3408|   5.0|\n",
      "|     1|   3618|   3.0|\n",
      "|     1|   3720|   5.0|\n",
      "|     1|   3844|   4.0|\n",
      "|     1|   3952|   5.0|\n",
      "|     2|      1|   3.0|\n",
      "|     2|     34|   4.0|\n",
      "|     2|    141|   4.0|\n",
      "|     2|    180|   2.0|\n",
      "|     2|    203|   4.0|\n",
      "|     2|    224|   5.0|\n",
      "|     2|    235|   4.0|\n",
      "|     2|    246|   4.0|\n",
      "|     2|    348|   3.0|\n",
      "|     2|    543|   4.0|\n",
      "|     2|    562|   4.0|\n",
      "|     2|    581|   4.0|\n",
      "|     2|    708|   2.0|\n",
      "|     2|    785|   1.0|\n",
      "|     2|   1042|   2.0|\n",
      "|     2|   1057|   3.0|\n",
      "|     2|   1101|   3.0|\n",
      "|     2|   1189|   4.0|\n",
      "|     2|   1193|   4.0|\n",
      "|     2|   1285|   4.0|\n",
      "|     2|   1446|   4.0|\n",
      "|     2|   1569|   3.0|\n",
      "|     2|   1580|   2.0|\n",
      "|     2|   1614|   2.0|\n",
      "|     2|   1649|   3.0|\n",
      "|     2|   1711|   2.0|\n",
      "|     2|   1747|   4.0|\n",
      "|     2|   1784|   2.0|\n",
      "|     2|   1840|   4.0|\n",
      "|     2|   1914|   5.0|\n",
      "|     2|   1994|   2.0|\n",
      "|     2|   2355|   4.0|\n",
      "|     2|   2359|   5.0|\n",
      "|     2|   2396|   3.0|\n",
      "|     2|   2539|   3.0|\n",
      "|     2|   3168|   4.0|\n",
      "|     2|   3174|   4.0|\n",
      "|     2|   3809|   4.0|\n",
      "|     3|     50|   4.0|\n",
      "|     3|    125|   5.0|\n",
      "|     3|    209|   4.0|\n",
      "|     3|    296|   5.0|\n",
      "|     3|    785|   5.0|\n",
      "|     3|   1259|   5.0|\n",
      "|     3|   1393|   4.0|\n",
      "|     3|   1517|   4.0|\n",
      "+------+-------+------+\n",
      "only showing top 100 rows\n",
      "\n"
     ]
    }
   ],
   "source": [
    "train.show(100)"
   ]
  },
  {
   "cell_type": "code",
   "execution_count": 14,
   "metadata": {},
   "outputs": [
    {
     "data": {
      "text/plain": [
       "180455"
      ]
     },
     "execution_count": 14,
     "metadata": {},
     "output_type": "execute_result"
    }
   ],
   "source": [
    "test.count() # 切割後資料數 test"
   ]
  },
  {
   "cell_type": "code",
   "execution_count": 15,
   "metadata": {},
   "outputs": [
    {
     "name": "stdout",
     "output_type": "stream",
     "text": [
      "+------+-------+------+\n",
      "|UserID|MovieID|Rating|\n",
      "+------+-------+------+\n",
      "|     1|     11|   5.0|\n",
      "|     1|    150|   5.0|\n",
      "|     1|    260|   5.0|\n",
      "|     1|   1041|   3.0|\n",
      "|     1|   1136|   3.0|\n",
      "|     1|   1196|   5.0|\n",
      "|     1|   1230|   5.0|\n",
      "|     1|   1271|   4.0|\n",
      "|     1|   1672|   4.0|\n",
      "|     1|   1721|   4.0|\n",
      "|     1|   1784|   5.0|\n",
      "|     1|   2432|   4.0|\n",
      "|     1|   3079|   4.0|\n",
      "|     1|   3259|   4.0|\n",
      "|     1|   3421|   2.0|\n",
      "|     1|   3787|   5.0|\n",
      "|     1|   3822|   3.0|\n",
      "|     2|    471|   3.0|\n",
      "|     2|    759|   5.0|\n",
      "|     2|   1923|   2.0|\n",
      "+------+-------+------+\n",
      "only showing top 20 rows\n",
      "\n"
     ]
    }
   ],
   "source": [
    "test.show()"
   ]
  },
  {
   "cell_type": "code",
   "execution_count": 16,
   "metadata": {},
   "outputs": [
    {
     "data": {
      "text/plain": [
       "[Row(UserID=1, MovieID=36, Rating=5.0),\n",
       " Row(UserID=1, MovieID=85, Rating=3.0),\n",
       " Row(UserID=1, MovieID=249, Rating=4.0),\n",
       " Row(UserID=1, MovieID=261, Rating=4.0),\n",
       " Row(UserID=1, MovieID=265, Rating=4.0)]"
      ]
     },
     "execution_count": 16,
     "metadata": {},
     "output_type": "execute_result"
    }
   ],
   "source": [
    "train.take(5)  # 印出前5筆資料"
   ]
  },
  {
   "cell_type": "code",
   "execution_count": 17,
   "metadata": {},
   "outputs": [
    {
     "name": "stdout",
     "output_type": "stream",
     "text": [
      "[[1, 36, 5.0], [1, 85, 3.0], [1, 249, 4.0], [1, 261, 4.0], [1, 265, 4.0]]\n"
     ]
    }
   ],
   "source": [
    "#  把df_train 轉成 rdd格式\n",
    "rdd_train = train.rdd.map(lambda x: [x[0],x[1], x[2]])\n",
    "print(rdd_train.take(5)) # print前五筆的資料"
   ]
  },
  {
   "cell_type": "code",
   "execution_count": 18,
   "metadata": {},
   "outputs": [
    {
     "name": "stdout",
     "output_type": "stream",
     "text": [
      "[[1, 11], [1, 150], [1, 260], [1, 1041], [1, 1136]]\n"
     ]
    }
   ],
   "source": [
    "#  把df_test 轉成 rdd格式\n",
    "rdd_test_x = test.rdd.map(lambda x: [x[0],x[1]])\n",
    "print(rdd_test_x.take(5)) # print前五筆的資料"
   ]
  },
  {
   "cell_type": "code",
   "execution_count": 19,
   "metadata": {},
   "outputs": [],
   "source": [
    "from pyspark.mllib.recommendation import ALS, MatrixFactorizationModel, Rating # import 矩陣分解套件"
   ]
  },
  {
   "cell_type": "code",
   "execution_count": 51,
   "metadata": {
    "scrolled": true
   },
   "outputs": [],
   "source": [
    "model = ALS.train(rdd_train, 20, 20) # 建立矩陣分解模型(data,rank,iteration)"
   ]
  },
  {
   "cell_type": "code",
   "execution_count": 52,
   "metadata": {},
   "outputs": [],
   "source": [
    "pred = model.predictAll(rdd_test_x).map(lambda x: [x[0], x[1], x[2]]) # 預測結果"
   ]
  },
  {
   "cell_type": "code",
   "execution_count": 53,
   "metadata": {},
   "outputs": [
    {
     "name": "stdout",
     "output_type": "stream",
     "text": [
      "[[1, 11, 4.126304253564179], [1, 150, 4.544843088252699], [1, 260, 4.8414510964807995], [1, 1041, 3.960335236169104], [1, 1136, 3.955581576913638]]\n"
     ]
    }
   ],
   "source": [
    "pred = pred.sortBy(lambda x: [x[0], x[1]]).collect()# 預測出來結果沒照順序 --> 重新排序 --> 印出來看有沒有正確排序 --> 轉成list\n",
    "print(pred[0:5])"
   ]
  },
  {
   "cell_type": "code",
   "execution_count": 55,
   "metadata": {},
   "outputs": [
    {
     "name": "stdout",
     "output_type": "stream",
     "text": [
      "MAE : 0.004167207153266109\n"
     ]
    }
   ],
   "source": [
    "test_y = test.rdd.map(lambda x: [x[0],x[1], x[2]]).collect() # 轉換rdd to list方便操作\n",
    "\n",
    "i = 0\n",
    "j = 0\n",
    "error_sum = 0\n",
    "while(i < len(pred)):\n",
    "    if(pred[i][0] == test_y[j][0]) and (pred[i][1] == test_y[j][1]):\n",
    "        error_sum = error_sum + abs(test_y[j][2] - pred[i][2])\n",
    "        i+=1\n",
    "        j+=1\n",
    "    else:\n",
    "        i+=1\n",
    "        \n",
    "    # print(i,j)\n",
    "print(\"MAE : {0}\".format(error_sum/len(pred)))"
   ]
  }
 ],
 "metadata": {
  "kernelspec": {
   "display_name": "Python 3",
   "language": "python",
   "name": "python3"
  },
  "language_info": {
   "codemirror_mode": {
    "name": "ipython",
    "version": 3
   },
   "file_extension": ".py",
   "mimetype": "text/x-python",
   "name": "python",
   "nbconvert_exporter": "python",
   "pygments_lexer": "ipython3",
   "version": "3.8.3"
  }
 },
 "nbformat": 4,
 "nbformat_minor": 1
}
